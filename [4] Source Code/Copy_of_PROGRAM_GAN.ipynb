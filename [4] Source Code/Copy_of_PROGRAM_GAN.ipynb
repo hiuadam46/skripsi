{
  "cells": [
    {
      "cell_type": "code",
      "execution_count": null,
      "metadata": {
        "id": "t0EMjq2K3AUS"
      },
      "outputs": [],
      "source": [
        "#mounting\n",
        "from google.colab import drive\n",
        "drive.mount('/content/drive', force_remount=True) \n",
        "\n",
        "%cd drive/MyDrive"
      ]
    },
    {
      "cell_type": "code",
      "execution_count": null,
      "metadata": {
        "id": "lHNg6RKnQC_6"
      },
      "outputs": [],
      "source": [
        "!pip install keras.optimizer"
      ]
    },
    {
      "cell_type": "code",
      "execution_count": null,
      "metadata": {
        "id": "DAKhZ1I_w6TZ"
      },
      "outputs": [],
      "source": [
        "!ls dataset/balance_overtr7k/surprise"
      ]
    },
    {
      "cell_type": "code",
      "execution_count": null,
      "metadata": {
        "id": "WM660ZG_H0Xs"
      },
      "outputs": [],
      "source": [
        "import os\n",
        "import os.path\n",
        "l = []\n",
        "n = 10\n",
        "fext = \"generated_neutral_4\"\n",
        "link = \"dataset/balance_overtr7k/neutral/\"\n",
        "for dirpath, dirnames, filenames in os.walk(link):\n",
        "    for filename in [f for f in filenames if f.startswith(fext)][:n]:\n",
        "        l.append(filename)\n",
        "\n",
        "import numpy as np\n",
        "import matplotlib.pyplot as plt\n",
        "import matplotlib.image as mpimg\n",
        "\n",
        "\n",
        "w = 48\n",
        "h = 48\n",
        "fig = plt.figure(figsize=(12, 12))\n",
        "columns = 5\n",
        "rows = 2\n",
        "a = 0\n",
        "for i in range(1, columns*rows +1):\n",
        "    img = mpimg.imread(link+l[a])\n",
        "    fig.add_subplot(rows, columns, i)\n",
        "    plt.imshow(img, cmap='gray')\n",
        "    a = a+1\n",
        "plt.show()\n",
        "\n",
        "# %pylab inline\n",
        "# import matplotlib.pyplot as plt\n",
        "# import matplotlib.image as mpimg\n",
        "# img = mpimg.imread('disgust/generated_disgust_322.jpg', size=(h,w))\n",
        "# imgplot = plt.imshow(img, cmap='gray')\n",
        "# plt.show()"
      ]
    },
    {
      "cell_type": "code",
      "execution_count": null,
      "metadata": {
        "id": "Yg3zxODBBVaf"
      },
      "outputs": [],
      "source": [
        ""
      ]
    },
    {
      "cell_type": "code",
      "execution_count": null,
      "metadata": {
        "colab": {
          "base_uri": "https://localhost:8080/"
        },
        "id": "jbU5KIFpDIgl",
        "outputId": "60361175-8dee-47d2-b016-0a0ddfc4352a"
      },
      "outputs": [
        {
          "data": {
            "text/plain": [
              "[]"
            ]
          },
          "execution_count": 71,
          "metadata": {},
          "output_type": "execute_result"
        }
      ],
      "source": [
        "l"
      ]
    },
    {
      "cell_type": "code",
      "execution_count": null,
      "metadata": {
        "id": "U5HL8SNh2-Va"
      },
      "outputs": [],
      "source": [
        "#LIBRARY\n",
        "import numpy as np\n",
        "import glob\n",
        "import tensorflow as tf\n",
        "\n",
        "\n",
        "#GATHER TIAP KELAS\n",
        "disgust = glob.glob('SKRIPSI/dataset/balance_overtr7k/disgust/*.jpg')\n",
        "fear = glob.glob('SKRIPSI/dataset/balance_overtr7k/fear/*.jpg')\n",
        "happy = glob.glob('SKRIPSI/dataset/balance_overtr7k/happy/*.jpg')\n",
        "surprise = glob.glob('SKRIPSI/dataset/balance_overtr7k/surprise/*.jpg')\n",
        "angry = glob.glob('SKRIPSI/dataset/balance_overtr7k/angry/*.jpg')\n",
        "sad = glob.glob('SKRIPSI/dataset/balance_overtr7k/sad/*.jpg')\n",
        "neutral = glob.glob('SKRIPSI/dataset/balance_overtr7k/neutral/*.jpg')\n",
        "\n",
        "\n",
        "\n",
        "\n",
        "# from sklearn.model_selection import train_test_split\n",
        "# trainX, testX, trainy, testY = train_test_split(data, labels, test_size=0.01,\n",
        "#                                                 random_state=42)"
      ]
    },
    {
      "cell_type": "code",
      "execution_count": null,
      "metadata": {
        "id": "M8sEA6x5RDam"
      },
      "outputs": [],
      "source": [
        "# #LIBRARY\n",
        "# import numpy as np\n",
        "# import glob\n",
        "# import tensorflow as tf\n",
        "\n",
        "\n",
        "# #GATHER TIAP KELAS\n",
        "# overtr7k_disgust = glob.glob('SKRIPSI/dataset/balance_overtr7k/disgust/*.jpg')\n",
        "# overtr7k_fear = glob.glob('SKRIPSI/dataset/balance_overtr7k/fear/*.jpg')\n",
        "# overtr7k_happy = glob.glob('SKRIPSI/dataset/balance_overtr7k/happy/*.jpg')\n",
        "# overtr7k_surprise = glob.glob('SKRIPSI/dataset/balance_overtr7k/surprise/*.jpg')\n",
        "# overtr7k_angry = glob.glob('SKRIPSI/dataset/balance_overtr7k/angry/*.jpg')\n",
        "# overtr7k_sad = glob.glob('SKRIPSI/dataset/balance_overtr7k/sad/*.jpg')\n",
        "# overtr7k_neutral = glob.glob('SKRIPSI/dataset/balance_overtr7k/neutral/*.jpg')\n",
        "\n",
        "# #GATHER TIAP KELAS\n",
        "# overtr_disgust = glob.glob('SKRIPSI/dataset/balance_overtr/disgust/*.jpg')\n",
        "# overtr_fear = glob.glob('SKRIPSI/dataset/balance_overtr/fear/*.jpg')\n",
        "# overtr_happy = glob.glob('SKRIPSI/dataset/balance_overtr/happy/*.jpg')\n",
        "# overtr_surprise = glob.glob('SKRIPSI/dataset/balance_overtr/surprise/*.jpg')\n",
        "# overtr_angry = glob.glob('SKRIPSI/dataset/balance_overtr/angry/*.jpg')\n",
        "# overtr_sad = glob.glob('SKRIPSI/dataset/balance_overtr/sad/*.jpg')\n",
        "# overtr_neutral = glob.glob('SKRIPSI/dataset/balance_overtr/neutral/*.jpg')\n",
        "\n",
        "# #GATHER TIAP KELAS\n",
        "# combtr_disgust = glob.glob('SKRIPSI/dataset/balance_combtr/disgust/*.jpg')\n",
        "# combtr_fear = glob.glob('SKRIPSI/dataset/balance_combtr/fear/*.jpg')\n",
        "# combtr_happy = glob.glob('SKRIPSI/dataset/balance_combtr/happy/*.jpg')\n",
        "# combtr_surprise = glob.glob('SKRIPSI/dataset/balance_combtr/surprise/*.jpg')\n",
        "# combtr_angry = glob.glob('SKRIPSI/dataset/balance_combtr/angry/*.jpg')\n",
        "# combtr_sad = glob.glob('SKRIPSI/dataset/balance_combtr/sad/*.jpg')\n",
        "# combtr_neutral = glob.glob('SKRIPSI/dataset/balance_combtr/neutral/*.jpg')\n",
        "\n",
        "# #GATHER TIAP KELAS\n",
        "# over_disgust = glob.glob('SKRIPSI/dataset/balance_over/disgust/*.jpg')\n",
        "# over_fear = glob.glob('SKRIPSI/dataset/balance_over/fear/*.jpg')\n",
        "# over_happy = glob.glob('SKRIPSI/dataset/balance_over/happy/*.jpg')\n",
        "# over_surprise = glob.glob('SKRIPSI/dataset/balance_over/surprise/*.jpg')\n",
        "# over_angry = glob.glob('SKRIPSI/dataset/balance_over/angry/*.jpg')\n",
        "# over_sad = glob.glob('SKRIPSI/dataset/balance_over/sad/*.jpg')\n",
        "# over_neutral = glob.glob('SKRIPSI/dataset/balance_over/neutral/*.jpg')\n",
        "\n"
      ]
    },
    {
      "cell_type": "code",
      "execution_count": null,
      "metadata": {
        "id": "fzcHpmp1Q4nD"
      },
      "outputs": [],
      "source": [
        "%pylab inline\n",
        "import matplotlib.pyplot as plt\n",
        "import matplotlib.image as mpimg\n",
        "img = mpimg.imread('disgust/generated_disgust_322.jpg')\n",
        "imgplot = plt.imshow(img, cmap='gray')\n",
        "plt.show()"
      ]
    },
    {
      "cell_type": "code",
      "execution_count": null,
      "metadata": {
        "id": "BauQ-QvF1knP"
      },
      "outputs": [],
      "source": [
        "#MENGAMBIL DATA DIKELAS\n",
        "data = []\n",
        "labels = []\n",
        "\n",
        "a = 0\n",
        "\n",
        "for i in angry[200:1000]:   \n",
        "    image=tf.keras.preprocessing.image.load_img(i, \n",
        "    target_size= (48,48))\n",
        "    image=np.array(image)\n",
        "    # image = tf.image.rgb_to_grayscale(image)\n",
        "    data.append(image)\n",
        "    labels.append(0)\n",
        "\n",
        "data = np.array(data)\n",
        "labels = np.array(labels)"
      ]
    },
    {
      "cell_type": "code",
      "execution_count": null,
      "metadata": {
        "colab": {
          "base_uri": "https://localhost:8080/",
          "height": 284
        },
        "id": "ujDhKaEO6zsh",
        "outputId": "d4a0adf2-5c8e-4976-c0c8-5d1411b8550a"
      },
      "outputs": [
        {
          "data": {
            "text/plain": [
              "<matplotlib.image.AxesImage at 0x7f610febd9d0>"
            ]
          },
          "execution_count": 5,
          "metadata": {},
          "output_type": "execute_result"
        },
        {
          "data": {
            "image/png": "[encoded data removed]",
            "text/plain": [
              "<Figure size 432x288 with 1 Axes>"
            ]
          },
          "metadata": {},
          "output_type": "display_data"
        }
      ],
      "source": [
        "#MENAMPILKAN DATA DIKELAS\n",
        "#%cd SKRIPSI\n",
        "import matplotlib.pyplot as pyplot\n",
        "# plot raw pixel data\n",
        "pyplot.imshow(data[9], cmap='gray_r')"
      ]
    },
    {
      "cell_type": "code",
      "execution_count": null,
      "metadata": {
        "id": "EAb6v__j3ajY"
      },
      "outputs": [],
      "source": [
        "#SCALING DATA\n",
        "import numpy as np\n",
        "\n",
        "X = data\n",
        "# convert from unsigned ints to floats\n",
        "X = X.astype('float32')\n",
        "# scale from [0,255] to [0,1]\n",
        "X = X / 255.0"
      ]
    },
    {
      "cell_type": "code",
      "execution_count": null,
      "metadata": {
        "id": "DQOg0Rej3bq_"
      },
      "outputs": [],
      "source": [
        "# LIBRARY\n",
        "from numpy import expand_dims\n",
        "from numpy import zeros\n",
        "from numpy import ones\n",
        "from numpy import vstack\n",
        "from numpy.random import randn\n",
        "from numpy.random import randint\n",
        "from keras.datasets.mnist import load_data\n",
        "# from keras.optimizers import Adam\n",
        "from keras.models import Sequential\n",
        "from keras.layers import Dense\n",
        "from keras.layers import Reshape\n",
        "from keras.layers import Flatten\n",
        "from keras.layers import Conv2D\n",
        "from keras.layers import Conv2DTranspose\n",
        "from keras.layers import LeakyReLU\n",
        "from keras.layers import Dropout\n",
        "from matplotlib import pyplot\n",
        "# DISCRIMINATOR GAN\n",
        "def define_discriminator(in_shape=(48,48,3)):\n",
        "\tmodel = Sequential()\n",
        "\tmodel.add(Conv2D(128, (3,3), strides=(2, 2), padding='same', input_shape=in_shape))\n",
        "\tmodel.add(LeakyReLU(alpha=0.2))\n",
        "\tmodel.add(Conv2D(128, (4,4), strides=(2, 2), padding='same'))\n",
        "\tmodel.add(LeakyReLU(alpha=0.2))\n",
        "\tmodel.add(Conv2D(128, (4,4), strides=(2, 2), padding='same'))\n",
        "\tmodel.add(LeakyReLU(alpha=0.2))\n",
        "\tmodel.add(Flatten())\n",
        "\tmodel.add(Dropout(0.4))\n",
        "\tmodel.add(Dense(1, activation='sigmoid'))\n",
        "\t# compile model\n",
        "\t# opt = Adam(lr=0.0001, beta_1=0.5)\n",
        "\topt = tf.keras.optimizers.Adam(learning_rate=0.0001, beta_1=0.5)\n",
        "\n",
        "\tmodel.compile(loss='binary_crossentropy', optimizer=opt, metrics=['accuracy'])\n",
        "\treturn model\n",
        "\n",
        "# GENERATOR GAN\n",
        "def define_generator(latent_dim):\n",
        "\tmodel = Sequential()\n",
        "\t# foundation for 7x7 image\n",
        "\tn_nodes = 128 * 3 * 3\n",
        "\tmodel.add(Dense(n_nodes, input_dim=latent_dim))\n",
        "\tmodel.add(LeakyReLU(alpha=0.2))\n",
        "\tmodel.add(Reshape((3, 3, 128)))\n",
        "\t# upsample to 14x14\n",
        "\tmodel.add(Conv2DTranspose(128, (4,4), strides=(2,2), padding='same'))\n",
        "\tmodel.add(LeakyReLU(alpha=0.2))\n",
        "\tmodel.add(Conv2DTranspose(128, (4,4), strides=(2,2), padding='same'))\n",
        "\tmodel.add(LeakyReLU(alpha=0.2))\n",
        "\t# upsample to 28x28# upsample to 14x14\n",
        "\tmodel.add(Conv2DTranspose(128, (4,4), strides=(2,2), padding='same'))\n",
        "\tmodel.add(LeakyReLU(alpha=0.2))\n",
        "\t# upsample to 28x28\n",
        "\tmodel.add(Conv2DTranspose(128, (4,4), strides=(2,2), padding='same'))\n",
        "\tmodel.add(LeakyReLU(alpha=0.2))\n",
        "\tmodel.add(Conv2D(3, (6,6), activation='tanh', padding='same'))\n",
        "\treturn model\n",
        "\n",
        "# define the combined generator and discriminator model, for updating the generator\n",
        "def define_gan(g_model, d_model):\n",
        "\t# make weights in the discriminator not trainable\n",
        "\td_model.trainable = False\n",
        "\t# connect them\n",
        "\tmodel = Sequential()\n",
        "\t# add generator\n",
        "\tmodel.add(g_model)\n",
        "\t# add the discriminator\n",
        "\tmodel.add(d_model)\n",
        "\t# compile model\n",
        "\t# opt = Adam(lr=0.0001, beta_1=0.5)\n",
        "\topt = tf.keras.optimizers.Adam(learning_rate=0.0001, beta_1=0.5)\n",
        "\tmodel.compile(loss='binary_crossentropy', optimizer=opt)\n",
        "\treturn model\n",
        "\n",
        "# load and prepare training\n",
        "def load_real_samples():\n",
        "\t# load mnist dataset\n",
        "\t(trainX, _), (_, _) = load_data()\n",
        "\t# expand to 3d, e.g. add channels dimension\n",
        "\tX = expand_dims(trainX, axis=-1)\n",
        "\t# convert from unsigned ints to floats\n",
        "\tX = X.astype('float32')\n",
        "\t# scale from [0,255] to [0,1]\n",
        "\tX = X / 255.0\n",
        "\treturn X\n",
        "\n",
        "# select real samples\n",
        "def generate_real_samples(dataset, n_samples):\n",
        "\t# choose random instances\n",
        "\tix = randint(0, dataset.shape[0], n_samples)\n",
        "\t# retrieve selected images\n",
        "\tX = dataset[ix]\n",
        "\t# generate 'real' class labels (1)\n",
        "\ty = ones((n_samples, 1))\n",
        "\treturn X, y\n",
        "\n",
        "# generate points in latent space as input for the generator\n",
        "def generate_latent_points(latent_dim, n_samples):\n",
        "\t# generate points in the latent space\n",
        "\tx_input = randn(latent_dim * n_samples)\n",
        "\t# reshape into a batch of inputs for the network\n",
        "\tx_input = x_input.reshape(n_samples, latent_dim)\n",
        "\treturn x_input\n",
        "\n",
        "# use the generator to generate n fake examples, with class labels\n",
        "def generate_fake_samples(g_model, latent_dim, n_samples):\n",
        "\t# generate points in latent space\n",
        "\tx_input = generate_latent_points(latent_dim, n_samples)\n",
        "\t# predict outputs\n",
        "\tX = g_model.predict(x_input)\n",
        "\t# create 'fake' class labels (0)\n",
        "\ty = zeros((n_samples, 1))\n",
        "\treturn X, y\n",
        "\n",
        "# create and save a plot of generated images (reversed grayscale)\n",
        "def save_plot(examples, epoch, n=10):\n",
        "\t# plot images\n",
        "\tfor i in range(n * n):\n",
        "\t\t# define subplot\n",
        "\t\tpyplot.subplot(n, n, 1 + i)\n",
        "\t\t# turn off axis\n",
        "\t\tpyplot.axis('off')\n",
        "\t\t# plot raw pixel data\n",
        "\t\tpyplot.imshow(examples[i, :, :, 0], cmap='gray')\n",
        "\t# save plot to file\n",
        "\tfilename = 'generated_plot_e%03d.png' % (epoch+1)\n",
        "\tpyplot.savefig(filename)\n",
        "\tpyplot.close()\n",
        "\n",
        "# evaluate the discriminator, plot generated images, save generator model\n",
        "def summarize_performance(epoch, g_model, d_model, dataset, latent_dim, n_samples=100):\n",
        "    # prepare real samples\n",
        "    X_real, y_real = generate_real_samples(dataset, n_samples)\n",
        "    # evaluate discriminator on real examples\n",
        "    _, acc_real = d_model.evaluate(X_real, y_real, verbose=0)\n",
        "    # prepare fake examples\n",
        "    x_fake, y_fake = generate_fake_samples(g_model, latent_dim, n_samples)\n",
        "    # evaluate discriminator on fake examples\n",
        "    _, acc_fake = d_model.evaluate(x_fake, y_fake, verbose=0)\n",
        "    # summarize discriminator performance\n",
        "    print('>Accuracy real: %.0f%%, fake: %.0f%%' % (acc_real*100, acc_fake*100))\n",
        "    # save plot\n",
        "    save_plot(x_fake, epoch)\n",
        "    # save the generator model tile file\n",
        "    filename = 'generator_model_%03d.h5' % (epoch + 1)\n",
        "    g_model.save(filename)\n",
        "\n",
        "# TRAIN GENERATOR + DISCRIMINATOR\n",
        "def train(g_model, d_model, gan_model, dataset, latent_dim, n_epochs=99900000000, n_batch=256*2):\n",
        "\tbat_per_epo = int(dataset.shape[0] / n_batch)\n",
        "\thalf_batch = int(n_batch / 2)\n",
        "\t# manually enumerate epochs\n",
        "\tfor i in range(n_epochs):\n",
        "\t\t# enumerate batches over the training set\n",
        "\t\tfor j in range(bat_per_epo):\n",
        "\t\t\t# get randomly selected 'real' samples\n",
        "\t\t\tX_real, y_real = generate_real_samples(dataset, half_batch)\n",
        "\t\t\t# generate 'fake' examples\n",
        "\t\t\tX_fake, y_fake = generate_fake_samples(g_model, latent_dim, half_batch)\n",
        "\t\t\t# create training set for the discriminator\n",
        "\t\t\tX, y = vstack((X_real, X_fake)), vstack((y_real, y_fake))\n",
        "\t\t\t# update discriminator model weights\n",
        "\t\t\td_loss, _ = d_model.train_on_batch(X, y)\n",
        "\t\t\t# prepare points in latent space as input for the generator\n",
        "\t\t\tX_gan = generate_latent_points(latent_dim, n_batch)\n",
        "\t\t\t# create inverted labels for the fake samples\n",
        "\t\t\ty_gan = ones((n_batch, 1))\n",
        "\t\t\t# update the generator via the discriminator's error\n",
        "\t\t\tg_loss = gan_model.train_on_batch(X_gan, y_gan)\n",
        "\t\t\t# summarize loss on this batch\n",
        "\t\t\tprint('>%d, %d/%d, d=%.3f, g=%.3f' % (i+1, j+1, bat_per_epo, d_loss, g_loss))\n",
        "\t\t# evaluate the model performance, sometimes\n",
        "\t\tif (i+1) % 100 == 0:\n",
        "\t\t\tsummarize_performance(i, g_model, d_model, dataset, latent_dim)\n",
        "\n",
        "# # size of the latent space\n",
        "# latent_dim = 100\n",
        "# # create the discriminator\n",
        "# d_model = define_discriminator()\n",
        "# # create the generator\n",
        "# g_model = define_generator(latent_dim)\n",
        "# # create the gan\n",
        "# gan_model = define_gan(g_model, d_model)\n",
        "# # load image data\n",
        "# dataset = X\n",
        "# # train model\n",
        "# train(g_model, d_model, gan_model, dataset, latent_dim)"
      ]
    },
    {
      "cell_type": "code",
      "execution_count": null,
      "metadata": {
        "id": "FWzJGLMHEtzN"
      },
      "outputs": [],
      "source": [
        "#install visualkeras\n",
        "!pip install visualkeras"
      ]
    },
    {
      "cell_type": "code",
      "execution_count": null,
      "metadata": {
        "id": "m9eWeHyRE8Fz"
      },
      "outputs": [],
      "source": [
        "#visualisasi model generator\n",
        "import visualkeras\n",
        "\n",
        "d_model = define_generator(100)\n",
        "\n",
        "visualkeras.layered_view(d_model).show() # display using your system viewer\n",
        "visualkeras.layered_view(d_model, to_file='output.png') # write to disk\n",
        "visualkeras.layered_view(d_model, to_file='output.png').show() # write and show\n",
        "\n",
        "visualkeras.layered_view(d_model, legend=True)"
      ]
    },
    {
      "cell_type": "code",
      "execution_count": null,
      "metadata": {
        "colab": {
          "base_uri": "https://localhost:8080/"
        },
        "id": "2lrU0s_deMEe",
        "outputId": "1ca6e2cc-9bae-4d80-b5ac-fa92db4cd062"
      },
      "outputs": [
        {
          "name": "stdout",
          "output_type": "stream",
          "text": [
            "WARNING:tensorflow:No training configuration found in the save file, so the model was *not* compiled. Compile it manually.\n"
          ]
        }
      ],
      "source": [
        "# Proses Prediksi Gambar\n",
        "\n",
        "# example of loading the generator model and generating images\n",
        "from keras.models import load_model\n",
        "from numpy.random import randn\n",
        "from matplotlib import pyplot\n",
        "\n",
        "# generate points in latent space as input for the generator\n",
        "def generate_latent_points(latent_dim, n_samples):\n",
        "\t# generate points in the latent space\n",
        "\tx_input = randn(latent_dim * n_samples)\n",
        "\t# reshape into a batch of inputs for the network\n",
        "\tx_input = x_input.reshape(n_samples, latent_dim)\n",
        "\treturn x_input\n",
        "\n",
        "# create and save a plot of generated images (reversed grayscale)\n",
        "def save_plot(examples, n):\n",
        "\t# plot images\n",
        "\tfor i in range(n * n):\n",
        "\t\t# define subplot\n",
        "\t\tpyplot.subplot(n, n, 1 + i)\n",
        "\t\t# turn off axis\n",
        "\t\tpyplot.axis('off')\n",
        "\t\t# plot raw pixel data\n",
        "\t\tpyplot.imshow(examples[i, :, :, 0])\n",
        "\tpyplot.show()\n",
        "\n",
        "# load model\n",
        "model = load_model('SKRIPSI/Model/Sad/generator_model_37700.h5')\n",
        "# generate images\n",
        "latent_points = generate_latent_points(100, 2170)\n",
        "# generate images\n",
        "X = model.predict(latent_points)\n",
        "# plot the result\n",
        "# save_plot(X, 1000)"
      ]
    },
    {
      "cell_type": "code",
      "execution_count": null,
      "metadata": {
        "id": "aA5bxDF5eaGm"
      },
      "outputs": [],
      "source": [
        "#save generate image\n",
        "from PIL import Image\n",
        "import numpy as np\n",
        "from PIL import Image, ImageFile\n",
        "\n",
        "ImageFile.MAXBLOCK = 2**20\n",
        "\n",
        "for i in range(len(X)):\n",
        "  \n",
        "  A = X[i,:,:]\n",
        "  slice56 = A\n",
        "\n",
        "  formatted = (slice56 * 255 / np.max(slice56)).astype('uint8')\n",
        "  img = Image.fromarray(formatted)\n",
        "  img = img.resize((48,48),Image.ANTIALIAS)\n",
        "  img.save('generated_sad_%03d.jpg' % (i+1), \"JPEG\", optimize=True, quality=100)"
      ]
    },
    {
      "cell_type": "code",
      "execution_count": null,
      "metadata": {
        "id": "UmC0Tjz8rHpf"
      },
      "outputs": [],
      "source": [
        "surprise = glob.glob('generate/*.jpg')"
      ]
    },
    {
      "cell_type": "code",
      "execution_count": null,
      "metadata": {
        "id": "KZMNHeTUaXhJ"
      },
      "outputs": [],
      "source": [
        "#move image dari generate\n",
        "destination = 'balance_overtr7k/sad'\n",
        "for i in surprise:\n",
        "  shutil.move(i, destination) "
      ]
    },
    {
      "cell_type": "code",
      "execution_count": null,
      "metadata": {
        "id": "Dvy6iP7RiDTl"
      },
      "outputs": [],
      "source": [
        ""
      ]
    }
  ],
  "metadata": {
    "accelerator": "GPU",
    "colab": {
      "collapsed_sections": [],
      "machine_shape": "hm",
      "name": "Copy of PROGRAM GAN.ipynb",
      "provenance": []
    },
    "kernelspec": {
      "display_name": "Python 3",
      "name": "python3"
    },
    "language_info": {
      "name": "python"
    }
  },
  "nbformat": 4,
  "nbformat_minor": 0
}